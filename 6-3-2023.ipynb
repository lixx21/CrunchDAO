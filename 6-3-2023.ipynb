{
 "cells": [
  {
   "cell_type": "code",
   "execution_count": 1,
   "metadata": {},
   "outputs": [],
   "source": [
    "import pandas as pd\n",
    "import pandas as pd\n",
    "import numpy as np\n",
    "import matplotlib.pyplot as plt\n",
    "import seaborn as sns\n",
    "import xgboost as xgb\n",
    "from sklearn.model_selection import train_test_split\n",
    "from sklearn.metrics import accuracy_score\n",
    "from sklearn.ensemble import GradientBoostingRegressor\n",
    "import requests\n",
    "from scipy import stats\n",
    "from sklearn.feature_selection import VarianceThreshold\n",
    "from sklearn.feature_selection import RFE, SelectKBest, chi2\n",
    "# from tensorflow.keras.layers import *\n",
    "# import tensorflow as tf\n"
   ]
  },
  {
   "cell_type": "code",
   "execution_count": 2,
   "metadata": {},
   "outputs": [],
   "source": [
    "train_data = pd.read_csv('./X_train.csv')\n",
    "train_targets = pd.read_csv('./y_train.csv')\n",
    "test_data = pd.read_csv('./X_test.csv')"
   ]
  },
  {
   "cell_type": "code",
   "execution_count": 3,
   "metadata": {},
   "outputs": [],
   "source": [
    "train_data = train_data.drop(['id', 'Moons'], axis=1)\n",
    "test_data = test_data.drop(['id', 'Moons'], axis=1)"
   ]
  },
  {
   "cell_type": "code",
   "execution_count": 4,
   "metadata": {},
   "outputs": [
    {
     "data": {
      "text/html": [
       "<div>\n",
       "<style scoped>\n",
       "    .dataframe tbody tr th:only-of-type {\n",
       "        vertical-align: middle;\n",
       "    }\n",
       "\n",
       "    .dataframe tbody tr th {\n",
       "        vertical-align: top;\n",
       "    }\n",
       "\n",
       "    .dataframe thead th {\n",
       "        text-align: right;\n",
       "    }\n",
       "</style>\n",
       "<table border=\"1\" class=\"dataframe\">\n",
       "  <thead>\n",
       "    <tr style=\"text-align: right;\">\n",
       "      <th></th>\n",
       "      <th>Feature_1</th>\n",
       "      <th>Feature_2</th>\n",
       "      <th>Feature_3</th>\n",
       "      <th>Feature_4</th>\n",
       "      <th>Feature_5</th>\n",
       "      <th>Feature_6</th>\n",
       "      <th>Feature_7</th>\n",
       "      <th>Feature_8</th>\n",
       "      <th>Feature_9</th>\n",
       "      <th>Feature_10</th>\n",
       "      <th>...</th>\n",
       "      <th>Feature_40</th>\n",
       "      <th>Feature_41</th>\n",
       "      <th>Feature_42</th>\n",
       "      <th>Feature_43</th>\n",
       "      <th>Feature_44</th>\n",
       "      <th>Feature_45</th>\n",
       "      <th>Feature_46</th>\n",
       "      <th>Feature_47</th>\n",
       "      <th>Feature_48</th>\n",
       "      <th>Feature_49</th>\n",
       "    </tr>\n",
       "  </thead>\n",
       "  <tbody>\n",
       "    <tr>\n",
       "      <th>0</th>\n",
       "      <td>1.00</td>\n",
       "      <td>1.00</td>\n",
       "      <td>1.00</td>\n",
       "      <td>1.00</td>\n",
       "      <td>0.75</td>\n",
       "      <td>0.75</td>\n",
       "      <td>0.75</td>\n",
       "      <td>0.25</td>\n",
       "      <td>0.25</td>\n",
       "      <td>0.50</td>\n",
       "      <td>...</td>\n",
       "      <td>0.5</td>\n",
       "      <td>0.25</td>\n",
       "      <td>1.0</td>\n",
       "      <td>1.00</td>\n",
       "      <td>1.00</td>\n",
       "      <td>1.00</td>\n",
       "      <td>1.00</td>\n",
       "      <td>0.75</td>\n",
       "      <td>0.75</td>\n",
       "      <td>0.75</td>\n",
       "    </tr>\n",
       "    <tr>\n",
       "      <th>1</th>\n",
       "      <td>1.00</td>\n",
       "      <td>1.00</td>\n",
       "      <td>1.00</td>\n",
       "      <td>1.00</td>\n",
       "      <td>1.00</td>\n",
       "      <td>1.00</td>\n",
       "      <td>1.00</td>\n",
       "      <td>0.50</td>\n",
       "      <td>0.25</td>\n",
       "      <td>0.25</td>\n",
       "      <td>...</td>\n",
       "      <td>1.0</td>\n",
       "      <td>1.00</td>\n",
       "      <td>1.0</td>\n",
       "      <td>1.00</td>\n",
       "      <td>1.00</td>\n",
       "      <td>1.00</td>\n",
       "      <td>1.00</td>\n",
       "      <td>1.00</td>\n",
       "      <td>1.00</td>\n",
       "      <td>1.00</td>\n",
       "    </tr>\n",
       "    <tr>\n",
       "      <th>2</th>\n",
       "      <td>0.00</td>\n",
       "      <td>0.00</td>\n",
       "      <td>0.00</td>\n",
       "      <td>0.00</td>\n",
       "      <td>0.00</td>\n",
       "      <td>0.00</td>\n",
       "      <td>1.00</td>\n",
       "      <td>0.00</td>\n",
       "      <td>0.00</td>\n",
       "      <td>0.00</td>\n",
       "      <td>...</td>\n",
       "      <td>0.0</td>\n",
       "      <td>0.25</td>\n",
       "      <td>1.0</td>\n",
       "      <td>0.00</td>\n",
       "      <td>0.00</td>\n",
       "      <td>0.00</td>\n",
       "      <td>0.00</td>\n",
       "      <td>0.00</td>\n",
       "      <td>0.00</td>\n",
       "      <td>1.00</td>\n",
       "    </tr>\n",
       "    <tr>\n",
       "      <th>3</th>\n",
       "      <td>0.25</td>\n",
       "      <td>0.25</td>\n",
       "      <td>0.25</td>\n",
       "      <td>0.25</td>\n",
       "      <td>0.25</td>\n",
       "      <td>0.25</td>\n",
       "      <td>0.25</td>\n",
       "      <td>1.00</td>\n",
       "      <td>1.00</td>\n",
       "      <td>0.50</td>\n",
       "      <td>...</td>\n",
       "      <td>0.0</td>\n",
       "      <td>0.00</td>\n",
       "      <td>1.0</td>\n",
       "      <td>0.25</td>\n",
       "      <td>0.25</td>\n",
       "      <td>0.25</td>\n",
       "      <td>0.25</td>\n",
       "      <td>0.25</td>\n",
       "      <td>0.25</td>\n",
       "      <td>0.25</td>\n",
       "    </tr>\n",
       "    <tr>\n",
       "      <th>4</th>\n",
       "      <td>0.75</td>\n",
       "      <td>0.75</td>\n",
       "      <td>0.75</td>\n",
       "      <td>0.75</td>\n",
       "      <td>0.50</td>\n",
       "      <td>0.50</td>\n",
       "      <td>0.50</td>\n",
       "      <td>1.00</td>\n",
       "      <td>1.00</td>\n",
       "      <td>0.25</td>\n",
       "      <td>...</td>\n",
       "      <td>1.0</td>\n",
       "      <td>1.00</td>\n",
       "      <td>1.0</td>\n",
       "      <td>0.75</td>\n",
       "      <td>0.75</td>\n",
       "      <td>0.75</td>\n",
       "      <td>0.75</td>\n",
       "      <td>0.50</td>\n",
       "      <td>0.50</td>\n",
       "      <td>0.50</td>\n",
       "    </tr>\n",
       "  </tbody>\n",
       "</table>\n",
       "<p>5 rows × 49 columns</p>\n",
       "</div>"
      ],
      "text/plain": [
       "   Feature_1  Feature_2  Feature_3  Feature_4  Feature_5  Feature_6  \\\n",
       "0       1.00       1.00       1.00       1.00       0.75       0.75   \n",
       "1       1.00       1.00       1.00       1.00       1.00       1.00   \n",
       "2       0.00       0.00       0.00       0.00       0.00       0.00   \n",
       "3       0.25       0.25       0.25       0.25       0.25       0.25   \n",
       "4       0.75       0.75       0.75       0.75       0.50       0.50   \n",
       "\n",
       "   Feature_7  Feature_8  Feature_9  Feature_10  ...  Feature_40  Feature_41  \\\n",
       "0       0.75       0.25       0.25        0.50  ...         0.5        0.25   \n",
       "1       1.00       0.50       0.25        0.25  ...         1.0        1.00   \n",
       "2       1.00       0.00       0.00        0.00  ...         0.0        0.25   \n",
       "3       0.25       1.00       1.00        0.50  ...         0.0        0.00   \n",
       "4       0.50       1.00       1.00        0.25  ...         1.0        1.00   \n",
       "\n",
       "   Feature_42  Feature_43  Feature_44  Feature_45  Feature_46  Feature_47  \\\n",
       "0         1.0        1.00        1.00        1.00        1.00        0.75   \n",
       "1         1.0        1.00        1.00        1.00        1.00        1.00   \n",
       "2         1.0        0.00        0.00        0.00        0.00        0.00   \n",
       "3         1.0        0.25        0.25        0.25        0.25        0.25   \n",
       "4         1.0        0.75        0.75        0.75        0.75        0.50   \n",
       "\n",
       "   Feature_48  Feature_49  \n",
       "0        0.75        0.75  \n",
       "1        1.00        1.00  \n",
       "2        0.00        1.00  \n",
       "3        0.25        0.25  \n",
       "4        0.50        0.50  \n",
       "\n",
       "[5 rows x 49 columns]"
      ]
     },
     "execution_count": 4,
     "metadata": {},
     "output_type": "execute_result"
    }
   ],
   "source": [
    "train_data.head()"
   ]
  },
  {
   "cell_type": "code",
   "execution_count": 5,
   "metadata": {},
   "outputs": [
    {
     "data": {
      "text/html": [
       "<div>\n",
       "<style scoped>\n",
       "    .dataframe tbody tr th:only-of-type {\n",
       "        vertical-align: middle;\n",
       "    }\n",
       "\n",
       "    .dataframe tbody tr th {\n",
       "        vertical-align: top;\n",
       "    }\n",
       "\n",
       "    .dataframe thead th {\n",
       "        text-align: right;\n",
       "    }\n",
       "</style>\n",
       "<table border=\"1\" class=\"dataframe\">\n",
       "  <thead>\n",
       "    <tr style=\"text-align: right;\">\n",
       "      <th></th>\n",
       "      <th>target_r</th>\n",
       "      <th>target_g</th>\n",
       "      <th>target_b</th>\n",
       "    </tr>\n",
       "  </thead>\n",
       "  <tbody>\n",
       "    <tr>\n",
       "      <th>0</th>\n",
       "      <td>0.25</td>\n",
       "      <td>0.75</td>\n",
       "      <td>0.75</td>\n",
       "    </tr>\n",
       "    <tr>\n",
       "      <th>1</th>\n",
       "      <td>0.25</td>\n",
       "      <td>0.00</td>\n",
       "      <td>0.00</td>\n",
       "    </tr>\n",
       "    <tr>\n",
       "      <th>2</th>\n",
       "      <td>0.00</td>\n",
       "      <td>0.00</td>\n",
       "      <td>0.00</td>\n",
       "    </tr>\n",
       "    <tr>\n",
       "      <th>3</th>\n",
       "      <td>0.75</td>\n",
       "      <td>1.00</td>\n",
       "      <td>0.50</td>\n",
       "    </tr>\n",
       "    <tr>\n",
       "      <th>4</th>\n",
       "      <td>0.75</td>\n",
       "      <td>0.25</td>\n",
       "      <td>0.50</td>\n",
       "    </tr>\n",
       "  </tbody>\n",
       "</table>\n",
       "</div>"
      ],
      "text/plain": [
       "   target_r  target_g  target_b\n",
       "0      0.25      0.75      0.75\n",
       "1      0.25      0.00      0.00\n",
       "2      0.00      0.00      0.00\n",
       "3      0.75      1.00      0.50\n",
       "4      0.75      0.25      0.50"
      ]
     },
     "execution_count": 5,
     "metadata": {},
     "output_type": "execute_result"
    }
   ],
   "source": [
    "train_targets.head()"
   ]
  },
  {
   "cell_type": "code",
   "execution_count": 6,
   "metadata": {},
   "outputs": [
    {
     "data": {
      "text/html": [
       "<div>\n",
       "<style scoped>\n",
       "    .dataframe tbody tr th:only-of-type {\n",
       "        vertical-align: middle;\n",
       "    }\n",
       "\n",
       "    .dataframe tbody tr th {\n",
       "        vertical-align: top;\n",
       "    }\n",
       "\n",
       "    .dataframe thead th {\n",
       "        text-align: right;\n",
       "    }\n",
       "</style>\n",
       "<table border=\"1\" class=\"dataframe\">\n",
       "  <thead>\n",
       "    <tr style=\"text-align: right;\">\n",
       "      <th></th>\n",
       "      <th>Feature_1</th>\n",
       "      <th>Feature_2</th>\n",
       "      <th>Feature_3</th>\n",
       "      <th>Feature_4</th>\n",
       "      <th>Feature_5</th>\n",
       "      <th>Feature_6</th>\n",
       "      <th>Feature_7</th>\n",
       "      <th>Feature_8</th>\n",
       "      <th>Feature_9</th>\n",
       "      <th>Feature_10</th>\n",
       "      <th>...</th>\n",
       "      <th>Feature_40</th>\n",
       "      <th>Feature_41</th>\n",
       "      <th>Feature_42</th>\n",
       "      <th>Feature_43</th>\n",
       "      <th>Feature_44</th>\n",
       "      <th>Feature_45</th>\n",
       "      <th>Feature_46</th>\n",
       "      <th>Feature_47</th>\n",
       "      <th>Feature_48</th>\n",
       "      <th>Feature_49</th>\n",
       "    </tr>\n",
       "  </thead>\n",
       "  <tbody>\n",
       "    <tr>\n",
       "      <th>0</th>\n",
       "      <td>0.75</td>\n",
       "      <td>0.75</td>\n",
       "      <td>0.75</td>\n",
       "      <td>0.75</td>\n",
       "      <td>0.75</td>\n",
       "      <td>0.75</td>\n",
       "      <td>0.75</td>\n",
       "      <td>0.00</td>\n",
       "      <td>0.00</td>\n",
       "      <td>0.50</td>\n",
       "      <td>...</td>\n",
       "      <td>0.00</td>\n",
       "      <td>0.25</td>\n",
       "      <td>0.25</td>\n",
       "      <td>0.75</td>\n",
       "      <td>0.75</td>\n",
       "      <td>0.75</td>\n",
       "      <td>0.75</td>\n",
       "      <td>0.75</td>\n",
       "      <td>0.75</td>\n",
       "      <td>0.75</td>\n",
       "    </tr>\n",
       "    <tr>\n",
       "      <th>1</th>\n",
       "      <td>0.00</td>\n",
       "      <td>0.00</td>\n",
       "      <td>0.00</td>\n",
       "      <td>0.00</td>\n",
       "      <td>0.00</td>\n",
       "      <td>0.00</td>\n",
       "      <td>0.00</td>\n",
       "      <td>0.50</td>\n",
       "      <td>0.00</td>\n",
       "      <td>0.25</td>\n",
       "      <td>...</td>\n",
       "      <td>0.25</td>\n",
       "      <td>0.00</td>\n",
       "      <td>0.25</td>\n",
       "      <td>0.00</td>\n",
       "      <td>0.00</td>\n",
       "      <td>0.00</td>\n",
       "      <td>0.00</td>\n",
       "      <td>0.00</td>\n",
       "      <td>0.00</td>\n",
       "      <td>0.00</td>\n",
       "    </tr>\n",
       "    <tr>\n",
       "      <th>2</th>\n",
       "      <td>0.75</td>\n",
       "      <td>0.75</td>\n",
       "      <td>0.75</td>\n",
       "      <td>0.75</td>\n",
       "      <td>0.75</td>\n",
       "      <td>0.75</td>\n",
       "      <td>0.75</td>\n",
       "      <td>0.25</td>\n",
       "      <td>0.25</td>\n",
       "      <td>0.75</td>\n",
       "      <td>...</td>\n",
       "      <td>0.25</td>\n",
       "      <td>0.25</td>\n",
       "      <td>0.25</td>\n",
       "      <td>0.75</td>\n",
       "      <td>0.75</td>\n",
       "      <td>0.75</td>\n",
       "      <td>0.75</td>\n",
       "      <td>0.75</td>\n",
       "      <td>0.75</td>\n",
       "      <td>0.75</td>\n",
       "    </tr>\n",
       "    <tr>\n",
       "      <th>3</th>\n",
       "      <td>0.75</td>\n",
       "      <td>0.75</td>\n",
       "      <td>0.75</td>\n",
       "      <td>0.75</td>\n",
       "      <td>0.75</td>\n",
       "      <td>0.75</td>\n",
       "      <td>0.75</td>\n",
       "      <td>0.25</td>\n",
       "      <td>0.00</td>\n",
       "      <td>1.00</td>\n",
       "      <td>...</td>\n",
       "      <td>1.00</td>\n",
       "      <td>0.75</td>\n",
       "      <td>0.25</td>\n",
       "      <td>0.75</td>\n",
       "      <td>0.75</td>\n",
       "      <td>0.75</td>\n",
       "      <td>0.75</td>\n",
       "      <td>0.75</td>\n",
       "      <td>0.75</td>\n",
       "      <td>0.75</td>\n",
       "    </tr>\n",
       "    <tr>\n",
       "      <th>4</th>\n",
       "      <td>0.75</td>\n",
       "      <td>0.75</td>\n",
       "      <td>0.75</td>\n",
       "      <td>0.75</td>\n",
       "      <td>0.75</td>\n",
       "      <td>0.75</td>\n",
       "      <td>0.75</td>\n",
       "      <td>0.25</td>\n",
       "      <td>0.50</td>\n",
       "      <td>0.50</td>\n",
       "      <td>...</td>\n",
       "      <td>0.75</td>\n",
       "      <td>0.50</td>\n",
       "      <td>0.25</td>\n",
       "      <td>0.75</td>\n",
       "      <td>0.75</td>\n",
       "      <td>0.75</td>\n",
       "      <td>0.75</td>\n",
       "      <td>0.75</td>\n",
       "      <td>0.75</td>\n",
       "      <td>0.75</td>\n",
       "    </tr>\n",
       "  </tbody>\n",
       "</table>\n",
       "<p>5 rows × 49 columns</p>\n",
       "</div>"
      ],
      "text/plain": [
       "   Feature_1  Feature_2  Feature_3  Feature_4  Feature_5  Feature_6  \\\n",
       "0       0.75       0.75       0.75       0.75       0.75       0.75   \n",
       "1       0.00       0.00       0.00       0.00       0.00       0.00   \n",
       "2       0.75       0.75       0.75       0.75       0.75       0.75   \n",
       "3       0.75       0.75       0.75       0.75       0.75       0.75   \n",
       "4       0.75       0.75       0.75       0.75       0.75       0.75   \n",
       "\n",
       "   Feature_7  Feature_8  Feature_9  Feature_10  ...  Feature_40  Feature_41  \\\n",
       "0       0.75       0.00       0.00        0.50  ...        0.00        0.25   \n",
       "1       0.00       0.50       0.00        0.25  ...        0.25        0.00   \n",
       "2       0.75       0.25       0.25        0.75  ...        0.25        0.25   \n",
       "3       0.75       0.25       0.00        1.00  ...        1.00        0.75   \n",
       "4       0.75       0.25       0.50        0.50  ...        0.75        0.50   \n",
       "\n",
       "   Feature_42  Feature_43  Feature_44  Feature_45  Feature_46  Feature_47  \\\n",
       "0        0.25        0.75        0.75        0.75        0.75        0.75   \n",
       "1        0.25        0.00        0.00        0.00        0.00        0.00   \n",
       "2        0.25        0.75        0.75        0.75        0.75        0.75   \n",
       "3        0.25        0.75        0.75        0.75        0.75        0.75   \n",
       "4        0.25        0.75        0.75        0.75        0.75        0.75   \n",
       "\n",
       "   Feature_48  Feature_49  \n",
       "0        0.75        0.75  \n",
       "1        0.00        0.00  \n",
       "2        0.75        0.75  \n",
       "3        0.75        0.75  \n",
       "4        0.75        0.75  \n",
       "\n",
       "[5 rows x 49 columns]"
      ]
     },
     "execution_count": 6,
     "metadata": {},
     "output_type": "execute_result"
    }
   ],
   "source": [
    "test_data.head()"
   ]
  },
  {
   "attachments": {},
   "cell_type": "markdown",
   "metadata": {},
   "source": [
    "# Modeling\n",
    "\n"
   ]
  },
  {
   "cell_type": "code",
   "execution_count": 11,
   "metadata": {},
   "outputs": [],
   "source": [
    "model = xgb.XGBRegressor(objective='reg:squarederror', max_depth=5, learning_rate=0.01, n_estimators=2000, n_jobs=-1, colsample_bytree=0.5)"
   ]
  },
  {
   "cell_type": "code",
   "execution_count": 12,
   "metadata": {},
   "outputs": [],
   "source": [
    "def xg_boost_hackathon(model, data, target):\n",
    "    X, y = data, target\n",
    "    X_train, X_test, y_train, y_test = train_test_split(X, y, test_size=0.2, random_state=42)\n",
    "    #model = xgb.XGBRegressor(objective='reg:squarederror', max_depth=5, learning_rate=0.01, n_estimators=2000, n_jobs=-1, colsample_bytree=0.5)\n",
    "    #model = GradientBoostingRegressor(loss= 'squared_error',max_depth=5,learning_rate=0.01, n_estimators=2000, criterion='squared_error', max_features='sqrt', random_state=0)\n",
    "    model.fit(X_train, y_train)\n",
    "    pred = model.predict(X_test)\n",
    "    # print(model.feature_importances_)\n",
    "    scorer(y_test, pred)\n",
    "    #accuracy(y_test, pred)\n",
    "\n",
    "    return model"
   ]
  },
  {
   "cell_type": "code",
   "execution_count": 13,
   "metadata": {},
   "outputs": [],
   "source": [
    "def scorer(y_test, y_pred):\n",
    "    score = (stats.spearmanr(y_test, y_pred)*100)[0]\n",
    "    print('Score as calculated for the leader board (っಠ‿ಠ)っ {}'.format(score))\n",
    "    # print('accuracy_score: {}'.format(accuracy_score(y_test, y_pred)))"
   ]
  },
  {
   "cell_type": "code",
   "execution_count": 14,
   "metadata": {},
   "outputs": [
    {
     "name": "stdout",
     "output_type": "stream",
     "text": [
      "Score as calculated for the leader board (っಠ‿ಠ)っ 0.12111142598428769\n",
      "Score as calculated for the leader board (っಠ‿ಠ)っ 0.10628202446151158\n",
      "Score as calculated for the leader board (っಠ‿ಠ)っ 0.10252371050083024\n"
     ]
    }
   ],
   "source": [
    "model_target_r= xg_boost_hackathon(model, train_data, train_targets.target_r)\n",
    "model_target_g= xg_boost_hackathon(model, train_data, train_targets.target_g)\n",
    "model_target_b= xg_boost_hackathon(model, train_data, train_targets.target_b)"
   ]
  },
  {
   "attachments": {},
   "cell_type": "markdown",
   "metadata": {},
   "source": [
    "# Features Selection"
   ]
  },
  {
   "attachments": {},
   "cell_type": "markdown",
   "metadata": {},
   "source": [
    "## Using RFE"
   ]
  },
  {
   "cell_type": "code",
   "execution_count": null,
   "metadata": {},
   "outputs": [],
   "source": [
    "# def rfe_selection(model, test_data_input, train_data_input, target):\n",
    "\n",
    "#     print('\\nSelecting features...')\n",
    "#     recur = RFE(estimator = model, n_features_to_select = 15)\n",
    "#     features = recur.fit(train_data_input, target)\n",
    "\n",
    "#     # print(f'Number of features: {features.n_features_} ')\n",
    "#     # print(f'Selected Features are: {features.support_}')\n",
    "#     # print(f'Features rangking is as follows: {features.ranking_}')\n",
    "#     new_features = []\n",
    "\n",
    "#     print('Create new features...')\n",
    "#     for i, v in enumerate(features.support_):\n",
    "#         if v == True:\n",
    "#             new_features.append(train_data_input.columns[i])\n",
    "    \n",
    "#     new_train_data = train_data_input[new_features]\n",
    "#     #print(new_train_data.columns)\n",
    "#     new_test_data = test_data_input[new_features]\n",
    "#     #print(new_test_data.columns)\n",
    "\n",
    "#     # print('Modeling with new features...')\n",
    "#     # model = xg_boost_hackathon(model, new_train_data, target)\n",
    "\n",
    "\n",
    "#     return new_test_data, new_train_data\n",
    "\n"
   ]
  },
  {
   "cell_type": "code",
   "execution_count": null,
   "metadata": {},
   "outputs": [
    {
     "name": "stdout",
     "output_type": "stream",
     "text": [
      "\n",
      "Selecting features...\n",
      "Create new features...\n",
      "\n",
      "Selecting features...\n",
      "Create new features...\n",
      "\n",
      "Selecting features...\n",
      "Create new features...\n"
     ]
    }
   ],
   "source": [
    "# test_data_r, train_data_r = rfe_selection(model, test_data, train_data, train_targets.target_r)\n",
    "# test_data_g, train_data_g= rfe_selection(model, test_data, train_data, train_targets.target_g)\n",
    "# test_data_b, train_data_b= rfe_selection(model, test_data, train_data,train_targets.target_b)"
   ]
  },
  {
   "cell_type": "code",
   "execution_count": null,
   "metadata": {},
   "outputs": [
    {
     "data": {
      "text/plain": [
       "Index(['Feature_3', 'Feature_8', 'Feature_9', 'Feature_12', 'Feature_14',\n",
       "       'Feature_15', 'Feature_22', 'Feature_23', 'Feature_28', 'Feature_29',\n",
       "       'Feature_30', 'Feature_31', 'Feature_36', 'Feature_37', 'Feature_38'],\n",
       "      dtype='object')"
      ]
     },
     "execution_count": 19,
     "metadata": {},
     "output_type": "execute_result"
    }
   ],
   "source": [
    "# test_data_r.columns"
   ]
  },
  {
   "cell_type": "code",
   "execution_count": null,
   "metadata": {},
   "outputs": [
    {
     "data": {
      "text/plain": [
       "Index(['Feature_3', 'Feature_8', 'Feature_9', 'Feature_12', 'Feature_14',\n",
       "       'Feature_15', 'Feature_22', 'Feature_23', 'Feature_28', 'Feature_29',\n",
       "       'Feature_30', 'Feature_31', 'Feature_36', 'Feature_37', 'Feature_38'],\n",
       "      dtype='object')"
      ]
     },
     "execution_count": 20,
     "metadata": {},
     "output_type": "execute_result"
    }
   ],
   "source": [
    "# train_data_r.columns"
   ]
  },
  {
   "cell_type": "code",
   "execution_count": null,
   "metadata": {},
   "outputs": [
    {
     "name": "stdout",
     "output_type": "stream",
     "text": [
      "Score as calculated for the leader board (っಠ‿ಠ)っ 0.11041881775968065\n",
      "Score as calculated for the leader board (っಠ‿ಠ)っ 0.09328949919200528\n",
      "Score as calculated for the leader board (っಠ‿ಠ)っ 0.08701828306625052\n"
     ]
    }
   ],
   "source": [
    "# rfe_model_r= xg_boost_hackathon(model, train_data_r, train_targets.target_r)\n",
    "# rfe_model_g= xg_boost_hackathon(model, train_data_g, train_targets.target_g)\n",
    "# rfe_model_b= xg_boost_hackathon(model, train_data_b, train_targets.target_b)"
   ]
  },
  {
   "attachments": {},
   "cell_type": "markdown",
   "metadata": {},
   "source": [
    "# Using Chi Score"
   ]
  },
  {
   "cell_type": "code",
   "execution_count": null,
   "metadata": {},
   "outputs": [],
   "source": [
    "# chi2_selector = SelectKBest(chi2, k=10)"
   ]
  },
  {
   "cell_type": "code",
   "execution_count": null,
   "metadata": {},
   "outputs": [],
   "source": [
    "# x_best = chi2_selector.fit_transform(train_data, train_targets.target_r.astype('int'))"
   ]
  },
  {
   "cell_type": "code",
   "execution_count": null,
   "metadata": {},
   "outputs": [
    {
     "data": {
      "text/plain": [
       "(580874, 10)"
      ]
     },
     "execution_count": 63,
     "metadata": {},
     "output_type": "execute_result"
    }
   ],
   "source": [
    "# x_best.shape"
   ]
  },
  {
   "cell_type": "code",
   "execution_count": null,
   "metadata": {},
   "outputs": [
    {
     "name": "stdout",
     "output_type": "stream",
     "text": [
      "Score as calculated for the leader board (っಠ‿ಠ)っ 0.010657662684875741\n",
      "Score as calculated for the leader board (っಠ‿ಠ)っ 0.015080135946431558\n",
      "Score as calculated for the leader board (っಠ‿ಠ)っ 0.02259239355845466\n"
     ]
    }
   ],
   "source": [
    "# model_target_r_chi= xg_boost_hackathon(model, x_best, train_targets.target_r)\n",
    "# model_target_g_chi= xg_boost_hackathon(model,x_best, train_targets.target_g)\n",
    "# model_target_b_chi= xg_boost_hackathon(model, x_best, train_targets.target_b)"
   ]
  },
  {
   "attachments": {},
   "cell_type": "markdown",
   "metadata": {},
   "source": [
    "# make a prediction"
   ]
  },
  {
   "cell_type": "code",
   "execution_count": 15,
   "metadata": {},
   "outputs": [],
   "source": [
    "prediction = pd.DataFrame()\n",
    "prediction['target_r'] = model_target_r.predict(test_data)\n",
    "prediction['target_g'] = model_target_g.predict(test_data)\n",
    "prediction['target_b'] = model_target_b.predict(test_data)"
   ]
  },
  {
   "cell_type": "code",
   "execution_count": 16,
   "metadata": {},
   "outputs": [
    {
     "data": {
      "text/html": [
       "<div>\n",
       "<style scoped>\n",
       "    .dataframe tbody tr th:only-of-type {\n",
       "        vertical-align: middle;\n",
       "    }\n",
       "\n",
       "    .dataframe tbody tr th {\n",
       "        vertical-align: top;\n",
       "    }\n",
       "\n",
       "    .dataframe thead th {\n",
       "        text-align: right;\n",
       "    }\n",
       "</style>\n",
       "<table border=\"1\" class=\"dataframe\">\n",
       "  <thead>\n",
       "    <tr style=\"text-align: right;\">\n",
       "      <th></th>\n",
       "      <th>target_r</th>\n",
       "      <th>target_g</th>\n",
       "      <th>target_b</th>\n",
       "    </tr>\n",
       "  </thead>\n",
       "  <tbody>\n",
       "    <tr>\n",
       "      <th>0</th>\n",
       "      <td>0.488215</td>\n",
       "      <td>0.488215</td>\n",
       "      <td>0.488215</td>\n",
       "    </tr>\n",
       "    <tr>\n",
       "      <th>1</th>\n",
       "      <td>0.495125</td>\n",
       "      <td>0.495125</td>\n",
       "      <td>0.495125</td>\n",
       "    </tr>\n",
       "    <tr>\n",
       "      <th>2</th>\n",
       "      <td>0.475382</td>\n",
       "      <td>0.475382</td>\n",
       "      <td>0.475382</td>\n",
       "    </tr>\n",
       "    <tr>\n",
       "      <th>3</th>\n",
       "      <td>0.473379</td>\n",
       "      <td>0.473379</td>\n",
       "      <td>0.473379</td>\n",
       "    </tr>\n",
       "    <tr>\n",
       "      <th>4</th>\n",
       "      <td>0.505561</td>\n",
       "      <td>0.505561</td>\n",
       "      <td>0.505561</td>\n",
       "    </tr>\n",
       "    <tr>\n",
       "      <th>...</th>\n",
       "      <td>...</td>\n",
       "      <td>...</td>\n",
       "      <td>...</td>\n",
       "    </tr>\n",
       "    <tr>\n",
       "      <th>13254</th>\n",
       "      <td>0.474931</td>\n",
       "      <td>0.474931</td>\n",
       "      <td>0.474931</td>\n",
       "    </tr>\n",
       "    <tr>\n",
       "      <th>13255</th>\n",
       "      <td>0.468367</td>\n",
       "      <td>0.468367</td>\n",
       "      <td>0.468367</td>\n",
       "    </tr>\n",
       "    <tr>\n",
       "      <th>13256</th>\n",
       "      <td>0.525492</td>\n",
       "      <td>0.525492</td>\n",
       "      <td>0.525492</td>\n",
       "    </tr>\n",
       "    <tr>\n",
       "      <th>13257</th>\n",
       "      <td>0.511479</td>\n",
       "      <td>0.511479</td>\n",
       "      <td>0.511479</td>\n",
       "    </tr>\n",
       "    <tr>\n",
       "      <th>13258</th>\n",
       "      <td>0.476199</td>\n",
       "      <td>0.476199</td>\n",
       "      <td>0.476199</td>\n",
       "    </tr>\n",
       "  </tbody>\n",
       "</table>\n",
       "<p>13259 rows × 3 columns</p>\n",
       "</div>"
      ],
      "text/plain": [
       "       target_r  target_g  target_b\n",
       "0      0.488215  0.488215  0.488215\n",
       "1      0.495125  0.495125  0.495125\n",
       "2      0.475382  0.475382  0.475382\n",
       "3      0.473379  0.473379  0.473379\n",
       "4      0.505561  0.505561  0.505561\n",
       "...         ...       ...       ...\n",
       "13254  0.474931  0.474931  0.474931\n",
       "13255  0.468367  0.468367  0.468367\n",
       "13256  0.525492  0.525492  0.525492\n",
       "13257  0.511479  0.511479  0.511479\n",
       "13258  0.476199  0.476199  0.476199\n",
       "\n",
       "[13259 rows x 3 columns]"
      ]
     },
     "execution_count": 16,
     "metadata": {},
     "output_type": "execute_result"
    }
   ],
   "source": [
    "prediction"
   ]
  },
  {
   "cell_type": "code",
   "execution_count": 17,
   "metadata": {},
   "outputs": [
    {
     "name": "stdout",
     "output_type": "stream",
     "text": [
      "Submission submitted.\n"
     ]
    }
   ],
   "source": [
    "API_KEY = \"YYfrN3aJ55zuDzMliIfSQEJQ3NWYoSj7bndvMAOzGy4zZVggZo2hP0D2nHpU\" # <- HERE\n",
    "\n",
    "r = requests.post(\"https://tournament.crunchdao.com/api/v2/submissions\",\n",
    "    files = {\n",
    "        \"file\": (\"x\", prediction.to_csv().encode('ascii'))\n",
    "    },\n",
    "    data = {\n",
    "        \"apiKey\": API_KEY\n",
    "    },\n",
    ")\n",
    "\n",
    "if r.status_code == 200:\n",
    "    print(\"Submission submitted.\")\n",
    "elif r.status_code == 423:\n",
    "    print(\"ERR: Submissions are close\")\n",
    "    print(\"You can only submit during rounds eg: Friday 7pm GMT+1 to Sunday midnight GMT+1.\")\n",
    "    print(\"Or the server is currently crunching the submitted files, please wait some time before retrying.\")\n",
    "elif r.status_code == 422:\n",
    "    print(\"ERR: API Key is missing or empty\")\n",
    "    print(\"Did you forget to fill the API_KEY variable?\")\n",
    "elif r.status_code == 400:\n",
    "    print(\"ERR: The file must not be empty\")\n",
    "    print(\"You have send a empty file.\")\n",
    "elif r.status_code == 401:\n",
    "    print(\"ERR: Your email hasn't been verified\")\n",
    "    print(\"Please verify your email or contact a cruncher.\")\n",
    "elif r.status_code == 409:\n",
    "    print(\"ERR: Duplicate submission\")\n",
    "    print(\"Your work has already been submitted with the same exact results, if you think that this a false positive, contact a cruncher.\")\n",
    "    print(\"MD5 collision probability: 1/2^128 (source: https://stackoverflow.com/a/288519/7292958)\")\n",
    "elif r.status_code == 429:\n",
    "    print(\"ERR: Too many submissions\")\n",
    "else:\n",
    "    print(\"ERR: Server returned: \" + str(r.status_code))\n",
    "    print(\"Ouch! It seems that we were not expecting this kind of result from the server, if the probleme persist, contact a cruncher.\")"
   ]
  }
 ],
 "metadata": {
  "kernelspec": {
   "display_name": "Python 3",
   "language": "python",
   "name": "python3"
  },
  "language_info": {
   "codemirror_mode": {
    "name": "ipython",
    "version": 3
   },
   "file_extension": ".py",
   "mimetype": "text/x-python",
   "name": "python",
   "nbconvert_exporter": "python",
   "pygments_lexer": "ipython3",
   "version": "3.8.0"
  },
  "orig_nbformat": 4,
  "vscode": {
   "interpreter": {
    "hash": "cb575880da7fb1b63f39f76a29ec1124782f92e8ba6b24ca6b4135e5a600188f"
   }
  }
 },
 "nbformat": 4,
 "nbformat_minor": 2
}
